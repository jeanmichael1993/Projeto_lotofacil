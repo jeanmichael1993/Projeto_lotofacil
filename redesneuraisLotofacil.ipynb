{
  "nbformat": 4,
  "nbformat_minor": 0,
  "metadata": {
    "colab": {
      "provenance": [],
      "authorship_tag": "ABX9TyMt0m8kwNoh+tG5nuGi2/Yl",
      "include_colab_link": true
    },
    "kernelspec": {
      "name": "python3",
      "display_name": "Python 3"
    },
    "language_info": {
      "name": "python"
    }
  },
  "cells": [
    {
      "cell_type": "markdown",
      "metadata": {
        "id": "view-in-github",
        "colab_type": "text"
      },
      "source": [
        "<a href=\"https://colab.research.google.com/github/jeanmichael1993/Projeto_lotofacil/blob/master/redesneuraisLotofacil.ipynb\" target=\"_parent\"><img src=\"https://colab.research.google.com/assets/colab-badge.svg\" alt=\"Open In Colab\"/></a>"
      ]
    },
    {
      "cell_type": "code",
      "source": [
        "def carregar_dados() -> str:\n",
        "  try:\n",
        "    dados = ''\n",
        "    with open('Lotofacil2.txt', 'r') as arquivo:\n",
        "      dados = arquivo.readlines()\n",
        "    return dados\n",
        "  except TypeError as error:\n",
        "    print(error)\n",
        "\n",
        "\n",
        "def tratar_dados(dados: str) -> str:\n",
        "  novos: str = []\n",
        "  for i in dados:\n",
        "    novos.append(i.rstrip().replace(\"\\n\", ' ').split(\" \"))\n",
        "  for i in novos:\n",
        "    print(i)\n",
        "  return novos\n",
        "\n",
        "\n",
        "if __name__ == \"__main__\":\n",
        "  dados: str = carregar_dados()\n",
        "  tratados: str = tratar_dados(dados)\n"
      ],
      "metadata": {
        "id": "0B20HU1IsBPv"
      },
      "execution_count": null,
      "outputs": []
    },
    {
      "cell_type": "code",
      "source": [
        "import numpy as np\n",
        "def criaConjuntos(dados,W = 15):\n",
        "    amostras = []\n",
        "    alvo = []\n",
        "    N = len(dados)\n",
        "    for px in range(N-W):\n",
        "        X = np.zeros((5,5,W),dtype=int)\n",
        "        Y = np.zeros((5,5),dtype=int)\n",
        "        for pw in range(W):\n",
        "            for nro in dados[px+pw]:\n",
        "                li = (int(nro)-1) // 5\n",
        "                co = (int(nro)-1) % 5\n",
        "                X[li,co,pw] = 1\n",
        "\n",
        "        for nro in dados[px+W]:\n",
        "            li = (int(nro)-1) // 5\n",
        "            co = (int(nro)-1) % 5\n",
        "            Y[li,co] = 1\n",
        "\n",
        "        amostras.append(X)\n",
        "        alvo.append(Y)\n",
        "\n",
        "    return np.array(amostras),np.array(alvo)\n",
        "amostras,alvo = criaConjuntos(tratados)\n",
        "print(\"Amostras processadas\")\n",
        "print(amostras)"
      ],
      "metadata": {
        "id": "ZbZReYcdx8ve"
      },
      "execution_count": null,
      "outputs": []
    },
    {
      "cell_type": "code",
      "source": [
        "import tensorflow.keras as keras\n",
        "import tensorflow as tf\n",
        "def converteSaidaBinarioN15(x):\n",
        "    x = np.array(x)\n",
        "    # Encontrar os índices dos 15 maiores valores\n",
        "    indices_melhores = np.argpartition(x.flatten(), -15)[-15:]\n",
        "    # Inicializar a matriz resultante com zeros\n",
        "    matriz_resultante = np.zeros_like(x)\n",
        "    # Definir os 15 maiores valores para 1\n",
        "    matriz_resultante.flat[indices_melhores] = 1\n",
        "    # Imprimir a matriz resultante\n",
        "    matriz_resultante = keras.backend.cast(matriz_resultante, dtype=tf.int32) #will convert bool to 0 and 1\n",
        "    return matriz_resultante\n",
        "def metricFunction(y_true, y_pred, imprime = False):\n",
        "    y_pred = converteSaidaBinarioN15(y_pred)\n",
        "    y_pred = tf.squeeze(y_pred)\n",
        "    quantidade_iguais = np.sum((y_true == 1) & (y_pred == 1))\n",
        "    return quantidade_iguais / 15\n",
        "p0 = keras.layers.Input((5, 5, 15))\n",
        "p1 = keras.layers.Conv2D(8, (3, 3), padding=\"same\", strides=1, activation=\"relu\")(p0)\n",
        "p2 = keras.layers.Conv2D(8, (3, 3), padding=\"same\", strides=1, activation=\"relu\")(p1)\n",
        "p3 = keras.layers.Conv2D(16, (3, 3), padding=\"same\", strides=1, activation=\"relu\")(p2)\n",
        "p4 = keras.layers.Conv2D(16, (3, 3), padding=\"same\", strides=1, activation=\"relu\")(p3)\n",
        "p5 = keras.layers.Conv2D(1, (1, 1), padding=\"same\", activation=\"sigmoid\")(p4)\n",
        "model = keras.models.Model(p0, p5)\n",
        "model.compile(optimizer=\"adam\", loss=\"binary_crossentropy\", metrics=[metricFunction])\n",
        "model.summary()\n",
        "\n",
        "print(\"Modelo criado!\")"
      ],
      "metadata": {
        "colab": {
          "base_uri": "https://localhost:8080/"
        },
        "id": "PWvoAK2ty0sS",
        "outputId": "c102d870-caf7-4219-a297-a0e455f0297a"
      },
      "execution_count": null,
      "outputs": [
        {
          "output_type": "stream",
          "name": "stdout",
          "text": [
            "Model: \"model\"\n",
            "_________________________________________________________________\n",
            " Layer (type)                Output Shape              Param #   \n",
            "=================================================================\n",
            " input_7 (InputLayer)        [(None, 5, 5, 15)]        0         \n",
            "                                                                 \n",
            " conv2d (Conv2D)             (None, 5, 5, 8)           1088      \n",
            "                                                                 \n",
            " conv2d_1 (Conv2D)           (None, 5, 5, 8)           584       \n",
            "                                                                 \n",
            " conv2d_2 (Conv2D)           (None, 5, 5, 16)          1168      \n",
            "                                                                 \n",
            " conv2d_3 (Conv2D)           (None, 5, 5, 16)          2320      \n",
            "                                                                 \n",
            " conv2d_4 (Conv2D)           (None, 5, 5, 1)           17        \n",
            "                                                                 \n",
            "=================================================================\n",
            "Total params: 5177 (20.22 KB)\n",
            "Trainable params: 5177 (20.22 KB)\n",
            "Non-trainable params: 0 (0.00 Byte)\n",
            "_________________________________________________________________\n",
            "Modelo criado!\n"
          ]
        }
      ]
    },
    {
      "cell_type": "code",
      "source": [
        "# prompt: rodar o modelo criado com as amostras\n",
        "\n",
        "model.fit(amostras, alvo, epochs=10, batch_size=100)\n"
      ],
      "metadata": {
        "colab": {
          "base_uri": "https://localhost:8080/",
          "height": 321
        },
        "id": "GVXIP_FT163r",
        "outputId": "a603c1d3-26b5-4b86-f35c-8feb0bae853d"
      },
      "execution_count": null,
      "outputs": [
        {
          "output_type": "error",
          "ename": "ValueError",
          "evalue": "Failed to find data adapter that can handle input: <class 'numpy.ndarray'>, <class 'keras.src.engine.functional.Functional'>",
          "traceback": [
            "\u001b[0;31m---------------------------------------------------------------------------\u001b[0m",
            "\u001b[0;31mValueError\u001b[0m                                Traceback (most recent call last)",
            "\u001b[0;32m<ipython-input-95-287186755764>\u001b[0m in \u001b[0;36m<cell line: 3>\u001b[0;34m()\u001b[0m\n\u001b[1;32m      1\u001b[0m \u001b[0;31m# prompt: rodar o modelo criado com as amostras\u001b[0m\u001b[0;34m\u001b[0m\u001b[0;34m\u001b[0m\u001b[0m\n\u001b[1;32m      2\u001b[0m \u001b[0;34m\u001b[0m\u001b[0m\n\u001b[0;32m----> 3\u001b[0;31m \u001b[0mmodel\u001b[0m\u001b[0;34m.\u001b[0m\u001b[0mfit\u001b[0m\u001b[0;34m(\u001b[0m\u001b[0mamostras\u001b[0m\u001b[0;34m,\u001b[0m \u001b[0mmodel\u001b[0m\u001b[0;34m,\u001b[0m \u001b[0mepochs\u001b[0m\u001b[0;34m=\u001b[0m\u001b[0;36m10\u001b[0m\u001b[0;34m,\u001b[0m \u001b[0mbatch_size\u001b[0m\u001b[0;34m=\u001b[0m\u001b[0;36m100\u001b[0m\u001b[0;34m)\u001b[0m\u001b[0;34m\u001b[0m\u001b[0;34m\u001b[0m\u001b[0m\n\u001b[0m",
            "\u001b[0;32m/usr/local/lib/python3.10/dist-packages/keras/src/utils/traceback_utils.py\u001b[0m in \u001b[0;36merror_handler\u001b[0;34m(*args, **kwargs)\u001b[0m\n\u001b[1;32m     68\u001b[0m             \u001b[0;31m# To get the full stack trace, call:\u001b[0m\u001b[0;34m\u001b[0m\u001b[0;34m\u001b[0m\u001b[0m\n\u001b[1;32m     69\u001b[0m             \u001b[0;31m# `tf.debugging.disable_traceback_filtering()`\u001b[0m\u001b[0;34m\u001b[0m\u001b[0;34m\u001b[0m\u001b[0m\n\u001b[0;32m---> 70\u001b[0;31m             \u001b[0;32mraise\u001b[0m \u001b[0me\u001b[0m\u001b[0;34m.\u001b[0m\u001b[0mwith_traceback\u001b[0m\u001b[0;34m(\u001b[0m\u001b[0mfiltered_tb\u001b[0m\u001b[0;34m)\u001b[0m \u001b[0;32mfrom\u001b[0m \u001b[0;32mNone\u001b[0m\u001b[0;34m\u001b[0m\u001b[0;34m\u001b[0m\u001b[0m\n\u001b[0m\u001b[1;32m     71\u001b[0m         \u001b[0;32mfinally\u001b[0m\u001b[0;34m:\u001b[0m\u001b[0;34m\u001b[0m\u001b[0;34m\u001b[0m\u001b[0m\n\u001b[1;32m     72\u001b[0m             \u001b[0;32mdel\u001b[0m \u001b[0mfiltered_tb\u001b[0m\u001b[0;34m\u001b[0m\u001b[0;34m\u001b[0m\u001b[0m\n",
            "\u001b[0;32m/usr/local/lib/python3.10/dist-packages/keras/src/engine/data_adapter.py\u001b[0m in \u001b[0;36mselect_data_adapter\u001b[0;34m(x, y)\u001b[0m\n\u001b[1;32m   1103\u001b[0m     \u001b[0;32mif\u001b[0m \u001b[0;32mnot\u001b[0m \u001b[0madapter_cls\u001b[0m\u001b[0;34m:\u001b[0m\u001b[0;34m\u001b[0m\u001b[0;34m\u001b[0m\u001b[0m\n\u001b[1;32m   1104\u001b[0m         \u001b[0;31m# TODO(scottzhu): This should be a less implementation-specific error.\u001b[0m\u001b[0;34m\u001b[0m\u001b[0;34m\u001b[0m\u001b[0m\n\u001b[0;32m-> 1105\u001b[0;31m         raise ValueError(\n\u001b[0m\u001b[1;32m   1106\u001b[0m             \"Failed to find data adapter that can handle input: {}, {}\".format(\n\u001b[1;32m   1107\u001b[0m                 \u001b[0m_type_name\u001b[0m\u001b[0;34m(\u001b[0m\u001b[0mx\u001b[0m\u001b[0;34m)\u001b[0m\u001b[0;34m,\u001b[0m \u001b[0m_type_name\u001b[0m\u001b[0;34m(\u001b[0m\u001b[0my\u001b[0m\u001b[0;34m)\u001b[0m\u001b[0;34m\u001b[0m\u001b[0;34m\u001b[0m\u001b[0m\n",
            "\u001b[0;31mValueError\u001b[0m: Failed to find data adapter that can handle input: <class 'numpy.ndarray'>, <class 'keras.src.engine.functional.Functional'>"
          ]
        }
      ]
    }
  ]
}